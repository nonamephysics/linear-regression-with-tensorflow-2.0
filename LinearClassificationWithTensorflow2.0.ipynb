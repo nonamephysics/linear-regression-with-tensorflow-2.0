{
 "cells": [
  {
   "cell_type": "code",
   "execution_count": null,
   "metadata": {},
   "outputs": [],
   "source": [
    "import tensorflow as tf "
   ]
  },
  {
   "cell_type": "code",
   "execution_count": null,
   "metadata": {},
   "outputs": [],
   "source": [
    "import pandas as pd\n",
    "import numpy as np"
   ]
  },
  {
   "cell_type": "code",
   "execution_count": null,
   "metadata": {},
   "outputs": [],
   "source": [
    "import matplotlib.pyplot as plt\n",
    "from mpl_toolkits.mplot3d import Axes3D\n",
    "%matplotlib inline"
   ]
  },
  {
   "cell_type": "code",
   "execution_count": null,
   "metadata": {},
   "outputs": [],
   "source": [
    "iris_data = pd.read_csv ('iris.csv')"
   ]
  },
  {
   "cell_type": "code",
   "execution_count": null,
   "metadata": {},
   "outputs": [],
   "source": [
    "iris_data ['variety'].unique()"
   ]
  },
  {
   "cell_type": "code",
   "execution_count": null,
   "metadata": {},
   "outputs": [],
   "source": [
    "setosa_data = iris_data[iris_data['variety']=='Setosa']\n",
    "versicolor_data = iris_data[iris_data['variety']=='Versicolor']\n",
    "virginica_data = iris_data[iris_data['variety']=='Virginica']"
   ]
  },
  {
   "cell_type": "code",
   "execution_count": null,
   "metadata": {},
   "outputs": [],
   "source": [
    "setosa_data.head()"
   ]
  },
  {
   "cell_type": "code",
   "execution_count": null,
   "metadata": {},
   "outputs": [],
   "source": [
    "versicolor_data.head()"
   ]
  },
  {
   "cell_type": "code",
   "execution_count": null,
   "metadata": {},
   "outputs": [],
   "source": [
    "virginica_data.head()"
   ]
  },
  {
   "cell_type": "code",
   "execution_count": null,
   "metadata": {},
   "outputs": [],
   "source": [
    "x_setosa = setosa_data ['sepal.length']\n",
    "y_setosa = setosa_data ['sepal.width']\n",
    "\n",
    "x_versicolor = versicolor_data ['sepal.length']\n",
    "y_versicolor = versicolor_data ['sepal.width']\n",
    "\n",
    "x_virginica = virginica_data ['sepal.length']\n",
    "y_virginica = virginica_data ['sepal.width']"
   ]
  },
  {
   "cell_type": "code",
   "execution_count": null,
   "metadata": {},
   "outputs": [],
   "source": [
    "plt.scatter(x_setosa, y_setosa)\n",
    "plt.scatter(x_versicolor, y_versicolor, marker ='*')\n",
    "plt.scatter(x_virginica, y_virginica, marker='P')\n",
    "plt.xlabel('sepal length', fontsize=15)\n",
    "plt.ylabel ('sepal width', fontsize=15)"
   ]
  },
  {
   "cell_type": "code",
   "execution_count": null,
   "metadata": {},
   "outputs": [],
   "source": [
    "x_setosa_p = setosa_data ['petal.length']\n",
    "y_setosa_p = setosa_data ['petal.width']\n",
    "\n",
    "x_versicolor_p = versicolor_data ['petal.length']\n",
    "y_versicolor_p = versicolor_data ['petal.width']\n",
    "\n",
    "x_virginica_p = virginica_data ['petal.length']\n",
    "y_virginica_p = virginica_data ['petal.width']\n",
    "\n",
    "plt.scatter(x_setosa_p, y_setosa_p)\n",
    "plt.scatter(x_versicolor_p, y_versicolor_p, marker ='*')\n",
    "plt.scatter(x_virginica_p, y_virginica_p, marker='P')\n",
    "plt.xlabel('petal length', fontsize=15)\n",
    "plt.ylabel ('petla width', fontsize=15)"
   ]
  },
  {
   "cell_type": "markdown",
   "metadata": {},
   "source": [
    "Versicolor is very similar to the virginica, so let's drop virginica"
   ]
  },
  {
   "cell_type": "code",
   "execution_count": null,
   "metadata": {},
   "outputs": [],
   "source": [
    "x_setosa = setosa_data ['sepal.length']\n",
    "y_setosa = setosa_data ['sepal.width']\n",
    "\n",
    "x_versicolor = versicolor_data ['sepal.length']\n",
    "y_versicolor = versicolor_data ['sepal.width']\n",
    "\n",
    "x_virginica = virginica_data ['sepal.length']\n",
    "y_virginica = virginica_data ['sepal.width']\n",
    "\n",
    "plt.scatter(x_setosa, y_setosa)\n",
    "plt.scatter(x_versicolor, y_versicolor, marker ='*')\n",
    "# plt.scatter(x_virginica, y_virginica, marker='P')\n",
    "plt.xlabel('sepal length', fontsize=15)\n",
    "plt.ylabel ('sepal width', fontsize=15)"
   ]
  },
  {
   "cell_type": "markdown",
   "metadata": {},
   "source": [
    "Prepare the data"
   ]
  },
  {
   "cell_type": "code",
   "execution_count": null,
   "metadata": {},
   "outputs": [],
   "source": [
    "X_Setosa = setosa_data[['sepal.length', 'sepal.width']]\n",
    "X_Versicolor = versicolor_data[['sepal.length', 'sepal.width']]\n",
    "\n",
    "X_Setosa.loc[:,'label'] = X_Setosa.shape[0]*[1]\n",
    "X_Versicolor.loc[:,'label'] = X_Versicolor.shape[0]*[0]"
   ]
  },
  {
   "cell_type": "code",
   "execution_count": null,
   "metadata": {},
   "outputs": [],
   "source": [
    "X = pd.concat([X_Setosa, X_Versicolor])\n",
    "X = X.sample(frac = 1)\n",
    "\n",
    "X_train = X[:80]\n",
    "X_eval = X[80:]\n",
    "\n",
    "y_train = X_train ['label']\n",
    "X_train = X_train.drop('label', axis =1)\n",
    "y_eval = X_eval['label']\n",
    "X_eval = X_eval.drop('label', axis =1)"
   ]
  },
  {
   "cell_type": "markdown",
   "metadata": {},
   "source": [
    "Build the model"
   ]
  },
  {
   "cell_type": "code",
   "execution_count": null,
   "metadata": {},
   "outputs": [],
   "source": [
    "feature_col_1 = tf.feature_column.numeric_column(key='sepal.length')\n",
    "feature_col_2 = tf.feature_column.numeric_column(key='sepal.width')\n",
    "\n",
    "linear_classifier = tf.estimator.LinearClassifier(feature_columns=[feature_col_1, feature_col_2])"
   ]
  },
  {
   "cell_type": "code",
   "execution_count": null,
   "metadata": {},
   "outputs": [],
   "source": [
    "def make_input_fn(data, labes, batch_size=30, num_epochs=6000):\n",
    "    def input_fn():\n",
    "        ds = tf.data.Dataset.from_tensor_slices((dict(X_train), y_train)) \n",
    "        ds = ds.batch(batch_size).repeat(num_epochs)\n",
    "        return ds\n",
    "    return input_fn\n",
    "\n",
    "input_fn = make_input_fn(X_train, y_train)\n",
    "linear_classifier.train(input_fn)"
   ]
  },
  {
   "cell_type": "code",
   "execution_count": null,
   "metadata": {},
   "outputs": [],
   "source": [
    "eval_input_fn = make_input_fn(X_eval, y_eval, num_epochs=1)\n",
    "linear_classifier.evaluate(eval_input_fn)"
   ]
  },
  {
   "cell_type": "markdown",
   "metadata": {},
   "source": [
    "Visualizing the results in 3D"
   ]
  },
  {
   "cell_type": "code",
   "execution_count": null,
   "metadata": {},
   "outputs": [],
   "source": [
    "linear_classifier.get_variable_names()"
   ]
  },
  {
   "cell_type": "code",
   "execution_count": null,
   "metadata": {},
   "outputs": [],
   "source": [
    "b =linear_classifier.get_variable_value('linear/linear_model/bias_weights')\n",
    "w1 =linear_classifier.get_variable_value('linear/linear_model/sepal.length/weights')\n",
    "w2 =linear_classifier.get_variable_value('linear/linear_model/sepal.width/weights')\n"
   ]
  },
  {
   "cell_type": "code",
   "execution_count": null,
   "metadata": {},
   "outputs": [],
   "source": [
    "x11 = 4.0\n",
    "x21 = (-w1*x11-b)/w2\n",
    "x12 = 8.5 \n",
    "x22 = (-w1*x12-b)/w2\n",
    "# print(type(x21), ' ', type(x22))\n",
    "# print(x21, ' ', x22)\n",
    "x21 = x21[0][0]\n",
    "x22 = x22[0][0]\n",
    "# print(type(x21), ' ', type(x22))"
   ]
  },
  {
   "cell_type": "code",
   "execution_count": null,
   "metadata": {},
   "outputs": [],
   "source": [
    "plt.scatter(x_setosa, y_setosa)\n",
    "plt.scatter(x_versicolor, y_versicolor, marker ='*')\n",
    "plt.xlabel('sepal length', fontsize=15)\n",
    "plt.ylabel ('sepal width', fontsize=15)\n",
    "plt.plot ([x11,x12],[x21,x22], 'm-')\n",
    "x_array = np.arange(x11, x12, 1)\n",
    "y_array = np.arange(x21, x22, 1)\n",
    "xx, yy = np.meshgrid(x_array, y_array)\n",
    "# zz = np.zeros((xx.shape[0], xx.shape[1]))\n",
    "zz = w1*xx +w2*yy +b\n",
    "\n",
    "\n"
   ]
  },
  {
   "cell_type": "code",
   "execution_count": null,
   "metadata": {},
   "outputs": [],
   "source": [
    "%matplotlib notebook\n",
    "plt3d = plt.figure().gca(projection='3d')\n",
    "plt3d.scatter (x_setosa, y_setosa, len(y_setosa)*[0], marker='o')\n",
    "plt3d.scatter (x_versicolor, y_versicolor, len(x_versicolor)*[0], marker='*')\n",
    "plt3d.plot ([x11,x12],[x21,x22],[0,0], 'm-')\n",
    "plt3d.scatter (xx,yy,zz)\n",
    "plt3d.plot_surface(xx, yy, zz, alpha=0.3, color ='k')\n"
   ]
  },
  {
   "cell_type": "code",
   "execution_count": null,
   "metadata": {},
   "outputs": [],
   "source": []
  },
  {
   "cell_type": "markdown",
   "metadata": {},
   "source": [
    "Materials from AIGenius mini course Linear Classification with Tensorflow2.0 provided by Dr. Thomas Vanck "
   ]
  }
 ],
 "metadata": {
  "kernelspec": {
   "display_name": "Python 3",
   "language": "python",
   "name": "python3"
  },
  "language_info": {
   "codemirror_mode": {
    "name": "ipython",
    "version": 3
   },
   "file_extension": ".py",
   "mimetype": "text/x-python",
   "name": "python",
   "nbconvert_exporter": "python",
   "pygments_lexer": "ipython3",
   "version": "3.7.3"
  }
 },
 "nbformat": 4,
 "nbformat_minor": 2
}
